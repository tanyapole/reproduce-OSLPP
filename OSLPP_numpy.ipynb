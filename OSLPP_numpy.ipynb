{
 "cells": [
  {
   "cell_type": "code",
   "execution_count": 1,
   "metadata": {},
   "outputs": [],
   "source": [
    "import OSLPP"
   ]
  },
  {
   "cell_type": "code",
   "execution_count": 2,
   "metadata": {},
   "outputs": [
    {
     "name": "stdout",
     "output_type": "stream",
     "text": [
      "art clipart OS=54.53 OS*=54.00 unk=67.92 HOS=60.16\n",
      "art product OS=72.75 OS*=72.67 unk=74.76 HOS=73.70\n",
      "art real_world OS=79.66 OS*=80.01 unk=70.70 HOS=75.07\n",
      "clipart art OS=50.04 OS*=48.89 unk=79.00 HOS=60.40\n",
      "clipart product OS=63.20 OS*=62.70 unk=75.47 HOS=68.50\n",
      "clipart real_world OS=68.00 OS*=67.73 unk=74.55 HOS=70.98\n",
      "product art OS=55.02 OS*=54.13 unk=77.43 HOS=63.71\n",
      "product clipart OS=51.39 OS*=50.71 unk=68.40 HOS=58.24\n",
      "product real_world OS=77.32 OS*=77.46 unk=73.68 HOS=75.53\n",
      "real_world art OS=61.88 OS*=61.35 unk=75.26 HOS=67.60\n",
      "real_world clipart OS=55.36 OS*=54.99 unk=64.65 HOS=59.43\n",
      "real_world product OS=77.74 OS*=78.03 unk=70.42 HOS=74.03\n"
     ]
    }
   ],
   "source": [
    "domains = ['art', 'clipart', 'product', 'real_world']\n",
    "for source in domains:\n",
    "    for target in domains:\n",
    "        if not source == target:\n",
    "            params = OSLPP.Params(pca_dim=512, proj_dim=128, T=10, n_r=1200, \n",
    "                  dataset='OfficeHome', source=source, target=target,\n",
    "                  num_src_classes=25, num_total_classes=65)\n",
    "            print(source, target, OSLPP.main(params))"
   ]
  },
  {
   "cell_type": "code",
   "execution_count": null,
   "metadata": {},
   "outputs": [],
   "source": []
  }
 ],
 "metadata": {
  "interpreter": {
   "hash": "59c7bfcc56593b71e8bb9ed39b3cf2345f3dda39e428ea1ba862e36d50a69647"
  },
  "kernelspec": {
   "display_name": "OSLPP",
   "language": "python",
   "name": "oslpp"
  },
  "language_info": {
   "codemirror_mode": {
    "name": "ipython",
    "version": 3
   },
   "file_extension": ".py",
   "mimetype": "text/x-python",
   "name": "python",
   "nbconvert_exporter": "python",
   "pygments_lexer": "ipython3",
   "version": "3.6.13"
  }
 },
 "nbformat": 4,
 "nbformat_minor": 2
}
