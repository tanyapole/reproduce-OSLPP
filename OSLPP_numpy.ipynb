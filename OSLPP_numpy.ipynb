{
 "cells": [
  {
   "cell_type": "code",
   "execution_count": 1,
   "source": [
    "import OSLPP"
   ],
   "outputs": [],
   "metadata": {}
  },
  {
   "cell_type": "code",
   "execution_count": 2,
   "source": [
    "params = OSLPP.Params(pca_dim=512, proj_dim=128, T=10, n_r=1200, \n",
    "                  dataset='OfficeHome', source='art', target='clipart',\n",
    "                  num_src_classes=25, num_total_classes=65)\n",
    "OSLPP.main(params)"
   ],
   "outputs": [
    {
     "output_type": "stream",
     "name": "stdout",
     "text": [
      "1089 4365\n",
      "data shapes:  (1089, 512) (4365, 512)\n",
      "selecting initial rejected samples at t=2\n",
      "OS=56.08 OS*=55.61 unk=67.84 HOS=61.12\n"
     ]
    }
   ],
   "metadata": {}
  },
  {
   "cell_type": "code",
   "execution_count": 3,
   "source": [
    "params = OSLPP.Params(pca_dim=512, proj_dim=128, T=10, n_r=1200, \n",
    "                  dataset='OfficeHome', source='art', target='product',\n",
    "                  num_src_classes=25, num_total_classes=65)\n",
    "OSLPP.main(params)"
   ],
   "outputs": [
    {
     "output_type": "stream",
     "name": "stdout",
     "text": [
      "1089 4439\n",
      "data shapes:  (1089, 512) (4439, 512)\n",
      "selecting initial rejected samples at t=2\n",
      "OS=72.36 OS*=72.35 unk=72.57 HOS=72.46\n"
     ]
    }
   ],
   "metadata": {}
  },
  {
   "cell_type": "code",
   "execution_count": null,
   "source": [],
   "outputs": [],
   "metadata": {}
  }
 ],
 "metadata": {
  "orig_nbformat": 4,
  "language_info": {
   "name": "python",
   "version": "3.6.13",
   "mimetype": "text/x-python",
   "codemirror_mode": {
    "name": "ipython",
    "version": 3
   },
   "pygments_lexer": "ipython3",
   "nbconvert_exporter": "python",
   "file_extension": ".py"
  },
  "kernelspec": {
   "name": "python3",
   "display_name": "Python 3.6.13 64-bit ('OSLPP': conda)"
  },
  "interpreter": {
   "hash": "59c7bfcc56593b71e8bb9ed39b3cf2345f3dda39e428ea1ba862e36d50a69647"
  }
 },
 "nbformat": 4,
 "nbformat_minor": 2
}