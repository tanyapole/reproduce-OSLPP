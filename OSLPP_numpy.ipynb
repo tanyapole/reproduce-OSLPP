{
 "cells": [
  {
   "cell_type": "code",
   "execution_count": 1,
   "source": [
    "import OSLPP"
   ],
   "outputs": [],
   "metadata": {}
  },
  {
   "cell_type": "code",
   "execution_count": 2,
   "source": [
    "def create_params(l2_first, center_and_normalzie):\n",
    "    return OSLPP.Params(pca_dim=512, proj_dim=128, T=10, n_r=1200, \n",
    "                  dataset='OfficeHome', source='art', target='product',\n",
    "                  num_src_classes=25, num_total_classes=65,\n",
    "                  l2_first=l2_first, center_and_normalzie=center_and_normalzie)\n",
    "                  "
   ],
   "outputs": [],
   "metadata": {}
  },
  {
   "cell_type": "code",
   "execution_count": 3,
   "source": [
    "params = create_params(l2_first=True, center_and_normalzie=True)\n",
    "OSLPP.main(params)"
   ],
   "outputs": [
    {
     "output_type": "stream",
     "name": "stdout",
     "text": [
      "data shapes:  (1089, 512) (4439, 512)\n",
      "OS=8.03 OS*=6.09 unk=56.71 HOS=10.99\n"
     ]
    }
   ],
   "metadata": {}
  },
  {
   "cell_type": "code",
   "execution_count": 4,
   "source": [
    "params = create_params(l2_first=False, center_and_normalzie=True)\n",
    "OSLPP.main(params)"
   ],
   "outputs": [
    {
     "output_type": "stream",
     "name": "stdout",
     "text": [
      "data shapes:  (1089, 512) (4439, 512)\n",
      "OS=6.41 OS*=4.25 unk=60.51 HOS=7.94\n"
     ]
    }
   ],
   "metadata": {}
  },
  {
   "cell_type": "code",
   "execution_count": null,
   "source": [],
   "outputs": [],
   "metadata": {}
  }
 ],
 "metadata": {
  "orig_nbformat": 4,
  "language_info": {
   "name": "python",
   "version": "3.6.12",
   "mimetype": "text/x-python",
   "codemirror_mode": {
    "name": "ipython",
    "version": 3
   },
   "pygments_lexer": "ipython3",
   "nbconvert_exporter": "python",
   "file_extension": ".py"
  },
  "kernelspec": {
   "name": "python3",
   "display_name": "Python 3.6.12 64-bit ('main36': conda)"
  },
  "interpreter": {
   "hash": "87c3e150e0f22e62286b0675a541f4baa4e53a56f1434145374688b05f7921a7"
  }
 },
 "nbformat": 4,
 "nbformat_minor": 2
}