{
 "cells": [
  {
   "cell_type": "code",
   "execution_count": 1,
   "source": [
    "from sklearn.decomposition import PCA\n",
    "import torch\n",
    "import scipy\n",
    "from torch.utils.data import Dataset\n",
    "from collections import Counter"
   ],
   "outputs": [
    {
     "output_type": "stream",
     "name": "stdout",
     "text": [
      "The history saving thread hit an unexpected error (OperationalError('disk I/O error',)).History will not be written to the database.\n"
     ]
    }
   ],
   "metadata": {}
  },
  {
   "cell_type": "code",
   "execution_count": 2,
   "source": [
    "def _load_tensors(domain):\n",
    "    features = torch.load(f'./data_handling/features/OH_{domain}_features.pt')\n",
    "    labels = torch.load(f'./data_handling/features/OH_{domain}_labels.pt')\n",
    "    return features, labels\n",
    "\n",
    "class FeaturesDataset(Dataset):\n",
    "    def __init__(self, features, labels):\n",
    "        self.features = features\n",
    "        self.labels = labels\n",
    "    def __len__(self): return len(self.labels)\n",
    "    def __getitem__(self, i): return self.features[i], self.labels[i]"
   ],
   "outputs": [],
   "metadata": {}
  },
  {
   "cell_type": "code",
   "execution_count": 53,
   "source": [
    "def create_datasets(source, target, num_src_classes, num_total_classes):\n",
    "    src_features, src_labels = _load_tensors(source)\n",
    "    idxs = torch.where(src_labels < num_src_classes)[0]\n",
    "    src_features, src_labels = src_features[idxs], src_labels[idxs]\n",
    "    src_ds = FeaturesDataset(src_features, src_labels)\n",
    "\n",
    "    tgt_features, tgt_labels = _load_tensors(target)\n",
    "    idxs = torch.where(tgt_labels < num_total_classes)[0]\n",
    "    tgt_features, tgt_labels = tgt_features[idxs], tgt_labels[idxs]\n",
    "    tgt_labels[tgt_labels >= num_src_classes] = num_src_classes\n",
    "    tgt_ds = FeaturesDataset(tgt_features, tgt_labels)\n",
    "\n",
    "    return src_ds, tgt_ds"
   ],
   "outputs": [],
   "metadata": {}
  },
  {
   "cell_type": "code",
   "execution_count": 54,
   "source": [
    "def get_PCA(features, dim):\n",
    "    return PCA(n_components=dim).fit_transform(features)\n",
    "def get_l2_norm(t):\n",
    "    return t.square().sum(dim=1).sqrt()\n",
    "def l2_normalize(t):\n",
    "    return t / get_l2_norm(t).unsqueeze(1)"
   ],
   "outputs": [],
   "metadata": {}
  },
  {
   "cell_type": "code",
   "execution_count": 55,
   "source": [
    "def get_projection_matrix(features, labels, dim):\n",
    "    # features - tensor of shape Nxd\n",
    "    # returns projection matrix of shape dxdim\n",
    "    N, d = features.shape\n",
    "    X = features.transpose(0,1)\n",
    "    W = torch.zeros((N,N)).int()\n",
    "    for i,l in enumerate(labels):\n",
    "        W[i] = labels == l\n",
    "    D = torch.zeros_like(W)\n",
    "    for i in range(len(D)):\n",
    "        D[i][i] = W[i].sum()\n",
    "    L = D - W\n",
    "\n",
    "    A = X.matmul(D.double()).matmul(X.transpose(0,1))\n",
    "    B = X.matmul(L.double()).matmul(X.transpose(0,1)) + torch.eye(len(X))\n",
    "    A = (A + A.transpose(0,1)) * 0.5\n",
    "    B = (B + B.transpose(0,1)) * 0.5\n",
    "    A = A.numpy()\n",
    "    B = B.numpy()\n",
    "\n",
    "    w,v = scipy.linalg.eigh(A, B)\n",
    "    assert w[-1] == w.max(), 'something changed in scipy'\n",
    "    return torch.tensor(v[:,-dim:])\n",
    "\n",
    "def project(features, P):\n",
    "    return P.transpose(0,1).matmul(features.transpose(0,1)).transpose(0,1)"
   ],
   "outputs": [],
   "metadata": {}
  },
  {
   "cell_type": "code",
   "execution_count": 56,
   "source": [
    "def get_centroids(features, labels):\n",
    "    centroids = [features[labels == c].mean(dim=0) for c in labels.unique()]\n",
    "    return torch.stack(centroids, dim=0)\n",
    "    \n",
    "def get_closest_centroid(f, centroids):\n",
    "    dists = (f - centroids).square().sum(dim=-1).sqrt()\n",
    "    pseudo = dists.argmin()\n",
    "    prob = torch.exp(-dists[pseudo]) / torch.exp(-dists).sum()\n",
    "    return pseudo, prob\n",
    "\n",
    "def predict_closed_set_pseudo_labels(src_zs, src_labels, tgt_zs):\n",
    "    centroids = get_centroids(src_zs, src_labels)\n",
    "    pseudo_preds = [get_closest_centroid(f, centroids) for f in tgt_zs]\n",
    "    pseudo_labels = torch.stack([_[0] for _ in pseudo_preds])\n",
    "    pseudo_probs = torch.stack([_[1] for _ in pseudo_preds])\n",
    "    return pseudo_labels, pseudo_probs\n",
    "\n",
    "def get_initial_private(pseudo_labels, pseudo_probs, n_r):\n",
    "    is_private = torch.zeros_like(pseudo_labels)\n",
    "    is_private[pseudo_probs.sort()[1][:n_r]] = 1\n",
    "    return is_private"
   ],
   "outputs": [],
   "metadata": {}
  },
  {
   "cell_type": "code",
   "execution_count": 57,
   "source": [
    "def select_pseudo_labels(t, T, num_src_classes, tgt_zs, pseudo_labels, pseudo_probs, is_private):\n",
    "    selected_pseudo_labels = torch.ones_like(pseudo_labels) * -1\n",
    "    classes = pseudo_labels.unique() \n",
    "    for c in classes:\n",
    "        idxs = torch.where((pseudo_labels == c) * (is_private == 0))[0]\n",
    "        if len(idxs) > 0:\n",
    "            selected_pseudo_labels[idxs[pseudo_probs[idxs].sort()[1][-(t*len(idxs)//T):]]] = c\n",
    "    idxs_lbld = torch.cat((torch.where(selected_pseudo_labels >= 0)[0], torch.where(is_private == 1)[0]), dim=0)\n",
    "    idxs_unlbld = torch.where((selected_pseudo_labels < 0) * (is_private == 0))[0]\n",
    "    new_is_private = is_private.clone()\n",
    "    for i in idxs_unlbld:\n",
    "        dists = (tgt_zs[i] - tgt_zs[idxs_lbld]).square().sum(dim=1)\n",
    "        nn_idx = idxs_lbld[dists.argmin()]\n",
    "        if is_private[nn_idx]:\n",
    "            new_is_private[i] = 1\n",
    "    selected_pseudo_labels[new_is_private > 0] = num_src_classes\n",
    "    return selected_pseudo_labels, new_is_private"
   ],
   "outputs": [],
   "metadata": {}
  },
  {
   "cell_type": "code",
   "execution_count": 58,
   "source": [
    "def evaluate(cs_pseudo_labels, is_private, num_src_classes, tgt_labels):\n",
    "    labels_predicted = cs_pseudo_labels.clone()\n",
    "    labels_predicted[is_private == 1] = num_src_classes\n",
    "    return (labels_predicted == tgt_labels).float().mean()"
   ],
   "outputs": [],
   "metadata": {}
  },
  {
   "cell_type": "code",
   "execution_count": 59,
   "source": [
    "params = type('test', (), {})()\n",
    "params.pca_dim = 512\n",
    "params.proj_dim = 128\n",
    "params.T = 10\n",
    "params.n_r  = 1200\n",
    "params.l2_first = False\n",
    "params.dataset = 'OfficeHome'\n",
    "params.source = 'art'\n",
    "params.target = 'clipart'\n",
    "params.num_src_classes = 25\n",
    "params.num_total_classes = 65"
   ],
   "outputs": [],
   "metadata": {}
  },
  {
   "cell_type": "code",
   "execution_count": 62,
   "source": [
    "src_ds, tgt_ds = create_datasets(params.source, params.target, params.num_src_classes, params.num_total_classes)\n",
    "assert (src_ds.labels.unique() == torch.arange(0, params.num_src_classes)).all()\n",
    "assert (tgt_ds.labels.unique() == torch.arange(0, params.num_src_classes+1)).all()"
   ],
   "outputs": [],
   "metadata": {}
  },
  {
   "cell_type": "code",
   "execution_count": 63,
   "source": [
    "len(src_ds), len(tgt_ds)"
   ],
   "outputs": [
    {
     "output_type": "execute_result",
     "data": {
      "text/plain": [
       "(1089, 4365)"
      ]
     },
     "metadata": {},
     "execution_count": 63
    }
   ],
   "metadata": {}
  },
  {
   "cell_type": "code",
   "execution_count": 64,
   "source": [
    "pca_features = torch.cat((src_ds.features, tgt_ds.features), dim=0)\n",
    "if params.l2_first:\n",
    "    pca_features = l2_normalize(pca_features)\n",
    "    pca_features = torch.tensor(get_PCA(pca_features, params.pca_dim))\n",
    "else:\n",
    "    pca_features = torch.tensor(get_PCA(pca_features, params.pca_dim))\n",
    "    pca_features = l2_normalize(pca_features)\n",
    "src_features, tgt_features = pca_features[:len(src_ds)], pca_features[len(src_ds):]\n",
    "\n",
    "src_labels, tgt_labels = src_ds.labels, tgt_ds.labels"
   ],
   "outputs": [],
   "metadata": {}
  },
  {
   "cell_type": "code",
   "execution_count": 65,
   "source": [
    "P = get_projection_matrix(src_features, src_labels, params.proj_dim)\n",
    "src_zs, tgt_zs = project(src_features, P), project(tgt_features, P)\n",
    "cs_pseudo_labels, cs_pseudo_probs = predict_closed_set_pseudo_labels(src_zs, src_labels, tgt_zs)\n",
    "is_private = get_initial_private(cs_pseudo_labels, cs_pseudo_probs, params.n_r)\n",
    "print(0, is_private.sum())"
   ],
   "outputs": [
    {
     "output_type": "stream",
     "name": "stdout",
     "text": [
      "0 tensor(1200)\n"
     ]
    }
   ],
   "metadata": {}
  },
  {
   "cell_type": "code",
   "execution_count": 66,
   "source": [
    "for t in range(1, params.T+1):\n",
    "    selected, is_private = select_pseudo_labels(t, params.T, params.num_src_classes, tgt_zs, cs_pseudo_labels, cs_pseudo_probs, is_private)\n",
    "    print(t, is_private.sum())\n",
    "    _features = torch.cat((src_features, tgt_features[selected >= 0]), dim=0)\n",
    "    _labels = torch.cat((src_labels, selected[selected >= 0]), dim=0)\n",
    "    P = get_projection_matrix(_features, _labels, params.proj_dim)\n",
    "    src_zs, tgt_zs = project(src_features, P), project(tgt_features, P)\n",
    "    cs_pseudo_labels, cs_pseudo_probs = predict_closed_set_pseudo_labels(src_zs, src_labels, tgt_zs)"
   ],
   "outputs": [
    {
     "output_type": "stream",
     "name": "stdout",
     "text": [
      "1 tensor(3081)\n",
      "2 tensor(3753)\n",
      "3 tensor(3999)\n",
      "4 tensor(4098)\n",
      "5 tensor(4153)\n",
      "6 tensor(4181)\n",
      "7 tensor(4190)\n",
      "8 tensor(4193)\n",
      "9 tensor(4193)\n",
      "10 tensor(4193)\n"
     ]
    }
   ],
   "metadata": {}
  },
  {
   "cell_type": "code",
   "execution_count": 67,
   "source": [
    "tgt_labels[is_private == 1].unique()"
   ],
   "outputs": [
    {
     "output_type": "execute_result",
     "data": {
      "text/plain": [
       "tensor([ 0,  1,  2,  3,  4,  5,  6,  7,  8,  9, 10, 11, 12, 13, 14, 15, 16, 17,\n",
       "        18, 19, 20, 21, 22, 23, 24, 25])"
      ]
     },
     "metadata": {},
     "execution_count": 67
    }
   ],
   "metadata": {}
  },
  {
   "cell_type": "code",
   "execution_count": 68,
   "source": [
    "labels_predicted = cs_pseudo_labels.clone()\n",
    "labels_predicted[is_private == 1] = params.num_src_classes\n",
    "(labels_predicted == tgt_labels).float().mean()"
   ],
   "outputs": [
    {
     "output_type": "execute_result",
     "data": {
      "text/plain": [
       "tensor(0.6241)"
      ]
     },
     "metadata": {},
     "execution_count": 68
    }
   ],
   "metadata": {}
  },
  {
   "cell_type": "code",
   "execution_count": 72,
   "source": [
    "acc_unk = (labels_predicted[tgt_labels == params.num_src_classes] == params.num_src_classes).float().mean(); acc_unk"
   ],
   "outputs": [
    {
     "output_type": "execute_result",
     "data": {
      "text/plain": [
       "tensor(0.9792)"
      ]
     },
     "metadata": {},
     "execution_count": 72
    }
   ],
   "metadata": {}
  },
  {
   "cell_type": "code",
   "execution_count": 75,
   "source": [
    "accs = torch.stack([(labels_predicted[tgt_labels == c] == c).float().mean() for c in range(params.num_src_classes)])"
   ],
   "outputs": [],
   "metadata": {}
  },
  {
   "cell_type": "code",
   "execution_count": 79,
   "source": [
    "acc_knw = accs.mean(); acc_knw"
   ],
   "outputs": [
    {
     "output_type": "execute_result",
     "data": {
      "text/plain": [
       "tensor(0.0602)"
      ]
     },
     "metadata": {},
     "execution_count": 79
    }
   ],
   "metadata": {}
  },
  {
   "cell_type": "code",
   "execution_count": 81,
   "source": [
    "h_score = 2 * acc_unk * acc_knw / (acc_unk + acc_knw); h_score"
   ],
   "outputs": [
    {
     "output_type": "execute_result",
     "data": {
      "text/plain": [
       "tensor(0.1134)"
      ]
     },
     "metadata": {},
     "execution_count": 81
    }
   ],
   "metadata": {}
  }
 ],
 "metadata": {
  "orig_nbformat": 4,
  "language_info": {
   "name": "python",
   "version": "3.6.12",
   "mimetype": "text/x-python",
   "codemirror_mode": {
    "name": "ipython",
    "version": 3
   },
   "pygments_lexer": "ipython3",
   "nbconvert_exporter": "python",
   "file_extension": ".py"
  },
  "kernelspec": {
   "name": "python3",
   "display_name": "Python 3.6.12 64-bit ('main36': conda)"
  },
  "interpreter": {
   "hash": "87c3e150e0f22e62286b0675a541f4baa4e53a56f1434145374688b05f7921a7"
  }
 },
 "nbformat": 4,
 "nbformat_minor": 2
}